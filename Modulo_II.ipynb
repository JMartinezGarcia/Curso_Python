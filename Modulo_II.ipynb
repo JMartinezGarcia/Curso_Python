{
 "cells": [
  {
   "cell_type": "markdown",
   "id": "e4e930f9-b6fb-4ee0-b9f2-b082c30c6427",
   "metadata": {},
   "source": [
    "# Módulo II: Python Básico II\n",
    "\n",
    "## Tabla de Contenidos:\n",
    "* [Funciones](#first-bullet)\n",
    "* [Diccionarios](#second-bullet)"
   ]
  },
  {
   "cell_type": "markdown",
   "id": "85eefaf6-1e4a-4749-88f1-4689a509064d",
   "metadata": {},
   "source": [
    "## Capítulo 1: Funciones <a class=\"anchor\" id=\"first-bullet\"></a>\n"
   ]
  },
  {
   "cell_type": "markdown",
   "id": "79bcdbff-60aa-4b1c-b702-e598507c2d2b",
   "metadata": {},
   "source": [
    "Podemos crear nuestras propias funciones usando la palabra reservada **def** "
   ]
  },
  {
   "cell_type": "code",
   "execution_count": 6,
   "id": "a8d9ebb9-74bf-46ae-bb6b-99830927a4e0",
   "metadata": {},
   "outputs": [
    {
     "name": "stdout",
     "output_type": "stream",
     "text": [
      "7\n"
     ]
    }
   ],
   "source": [
    "def suma(x,y):\n",
    "\n",
    "    return x + y\n",
    "\n",
    "print(suma(3,4))"
   ]
  },
  {
   "cell_type": "markdown",
   "id": "cf59fb50-95bf-4a29-bd92-418a33945322",
   "metadata": {},
   "source": [
    "Podemos definir variables posicionables que asumen valores por determinado"
   ]
  },
  {
   "cell_type": "code",
   "execution_count": 9,
   "id": "9fbe22fc-1362-4f6c-a834-cfb41d1852ea",
   "metadata": {},
   "outputs": [
    {
     "name": "stdout",
     "output_type": "stream",
     "text": [
      "11\n",
      "7\n",
      "Error! 0: Suma   1: Resta\n"
     ]
    }
   ],
   "source": [
    "def suma_o_resta(x, y, z = 0):\n",
    "\n",
    "    if z == 0:\n",
    "        return x + y\n",
    "    elif z == 1:\n",
    "        return x - y\n",
    "    else:\n",
    "        return \"Error! 0: Suma   1: Resta\"\n",
    "\n",
    "print(suma_o_resta(9,2))\n",
    "print(suma_o_resta(9,2,z = 1))\n",
    "print(suma_o_resta(9,2,z = 2))"
   ]
  },
  {
   "cell_type": "markdown",
   "id": "c9b5f16b-b407-44d1-9251-d8af1b093f83",
   "metadata": {},
   "source": [
    "Las variables definidas dentro de una función no pueden ser accedidas desde el exterior, \n",
    "sin embargo las variables definidas desde el exterior si pueden ser accedidas dentro de la función."
   ]
  },
  {
   "cell_type": "code",
   "execution_count": 16,
   "id": "e0387919-1959-4463-be94-71fbf79cc1c8",
   "metadata": {},
   "outputs": [
    {
     "name": "stdout",
     "output_type": "stream",
     "text": [
      "[0, 1, 2, 3, 4]\n",
      "[0, 1, 2, 3, 4, 0, 1, 2, 3, 4]\n"
     ]
    }
   ],
   "source": [
    "lista = []\n",
    "\n",
    "def func(N):\n",
    "    lista2 = []\n",
    "    for i in range(N):\n",
    "        lista2.append(i)\n",
    "        lista.append(i)\n",
    "        \n",
    "\n",
    "func(5)\n",
    "print(lista)\n",
    "func(5)\n",
    "print(lista)"
   ]
  },
  {
   "cell_type": "code",
   "execution_count": 17,
   "id": "c7be2004-6aaf-4c16-9b0d-62c82045e7fc",
   "metadata": {},
   "outputs": [
    {
     "ename": "NameError",
     "evalue": "name 'lista2' is not defined",
     "output_type": "error",
     "traceback": [
      "\u001b[0;31m---------------------------------------------------------------------------\u001b[0m",
      "\u001b[0;31mNameError\u001b[0m                                 Traceback (most recent call last)",
      "Cell \u001b[0;32mIn[17], line 1\u001b[0m\n\u001b[0;32m----> 1\u001b[0m \u001b[38;5;28mprint\u001b[39m(\u001b[43mlista2\u001b[49m)\n",
      "\u001b[0;31mNameError\u001b[0m: name 'lista2' is not defined"
     ]
    }
   ],
   "source": [
    "print(lista2)"
   ]
  },
  {
   "cell_type": "markdown",
   "id": "0e099c3e-378c-412a-a84b-fd4f846162d5",
   "metadata": {},
   "source": [
    "Para acceder una variable creada desde el interior de una función hay que devolverla con la palabra reservada **return**"
   ]
  },
  {
   "cell_type": "code",
   "execution_count": 18,
   "id": "080796e3-2bfc-4fad-a0d9-56913a089e9e",
   "metadata": {},
   "outputs": [
    {
     "name": "stdout",
     "output_type": "stream",
     "text": [
      "[0, 1, 2, 3, 4]\n"
     ]
    }
   ],
   "source": [
    "def func(N):\n",
    "    lista2 = []\n",
    "    for i in range(N):\n",
    "        lista2.append(i)\n",
    "\n",
    "    return lista2\n",
    "\n",
    "lista2 = func(5)\n",
    "print(lista2)"
   ]
  },
  {
   "cell_type": "markdown",
   "id": "b3a79114-36de-450f-acd5-ba27ae8d5425",
   "metadata": {},
   "source": [
    "También es posible devolver varios elementos de una función:"
   ]
  },
  {
   "cell_type": "code",
   "execution_count": 20,
   "id": "1b1beaed-6eb3-442b-8583-f9dd8af56ed6",
   "metadata": {},
   "outputs": [
    {
     "name": "stdout",
     "output_type": "stream",
     "text": [
      "5 6 7\n"
     ]
    }
   ],
   "source": [
    "def func(x):\n",
    "\n",
    "    return x, x+1, x+2\n",
    "\n",
    "x1, x2 , x3 = func(5)\n",
    "print(x1, x2, x3)\n"
   ]
  },
  {
   "cell_type": "code",
   "execution_count": 21,
   "id": "9c668a03-343b-4e58-82ff-9b8e4443d490",
   "metadata": {},
   "outputs": [
    {
     "name": "stdout",
     "output_type": "stream",
     "text": [
      "6\n"
     ]
    }
   ],
   "source": [
    "_ , x, _ = func(5)\n",
    "\n",
    "print(x)"
   ]
  },
  {
   "cell_type": "code",
   "execution_count": 23,
   "id": "143ad747-d376-4785-8216-e083fcc6b6eb",
   "metadata": {},
   "outputs": [
    {
     "name": "stdout",
     "output_type": "stream",
     "text": [
      "(5, 6, 7)\n"
     ]
    }
   ],
   "source": [
    "x = func(5)\n",
    "\n",
    "print(x)"
   ]
  },
  {
   "cell_type": "code",
   "execution_count": 31,
   "id": "c6a1843c-dbf1-4a64-9eda-839feb8268ae",
   "metadata": {},
   "outputs": [
    {
     "name": "stdout",
     "output_type": "stream",
     "text": [
      "5\n",
      "[6, 7]\n"
     ]
    }
   ],
   "source": [
    "x , *y = func(5)\n",
    "print(x)\n",
    "print(y)"
   ]
  },
  {
   "cell_type": "markdown",
   "id": "0126ccb4-0753-4c70-b6ff-fae018da528b",
   "metadata": {},
   "source": [
    "**Nota:** Podemos crear listas cuyos elementos sean funciones"
   ]
  },
  {
   "cell_type": "code",
   "execution_count": 36,
   "id": "9cbf8581-02c1-478b-9d18-249ac39d602f",
   "metadata": {},
   "outputs": [
    {
     "name": "stdout",
     "output_type": "stream",
     "text": [
      "[3, 'Hola', <function func at 0x11230f880>, 4.0]\n"
     ]
    }
   ],
   "source": [
    "lista = [3, \"Hola\", func, 4.]\n",
    "\n",
    "print(lista)"
   ]
  },
  {
   "cell_type": "markdown",
   "id": "67f70b28-b7a0-44b9-b83f-2b35d4030fe4",
   "metadata": {},
   "source": [
    "Podemos crear funciones anónimos que tengan una función sencilla usando la palabra reservada **lambda**"
   ]
  },
  {
   "cell_type": "code",
   "execution_count": 37,
   "id": "948120cf-d824-4b56-8c89-8348622fb82d",
   "metadata": {},
   "outputs": [
    {
     "name": "stdout",
     "output_type": "stream",
     "text": [
      "4\n",
      "4\n"
     ]
    }
   ],
   "source": [
    "def mult2(x):\n",
    "    return x * 2\n",
    "\n",
    "print(mult2(2))\n",
    "\n",
    "mult2 = lambda x: x * 2\n",
    "\n",
    "print(mult2(2))\n"
   ]
  },
  {
   "cell_type": "code",
   "execution_count": 39,
   "id": "e683f940-b0fc-4de1-961a-9f2f21a4ad36",
   "metadata": {},
   "outputs": [
    {
     "name": "stdout",
     "output_type": "stream",
     "text": [
      "5\n"
     ]
    }
   ],
   "source": [
    "suma = lambda x,y: x + y\n",
    "\n",
    "print(suma(2,3))"
   ]
  },
  {
   "cell_type": "markdown",
   "id": "d79e09c9-c223-4da3-94b3-dff89466ed09",
   "metadata": {},
   "source": [
    "## Capítulo 2: Diccionarios <a class=\"anchor\" id=\"second-bullet\"></a>\n"
   ]
  },
  {
   "cell_type": "markdown",
   "id": "2e46a45e-708b-432e-ab4a-b043c9ab8977",
   "metadata": {},
   "source": [
    "Un diccionario es un objeto compuesto de pares (clave, valor) donde tanto la clave como el valor pueden ser cualquier clase de objeto"
   ]
  },
  {
   "cell_type": "code",
   "execution_count": 54,
   "id": "386c6c66-a0c7-4b54-8a40-0617e9353823",
   "metadata": {},
   "outputs": [
    {
     "name": "stdout",
     "output_type": "stream",
     "text": [
      "{'Ana': 25, 'Bea': 26, 'Carlos': 27} \n",
      "\n",
      "{'Otoño': ['Octubre', 'Noviembre', 'Diciembre'], 'Invierno': ['Enero', 'Febrero', 'Marzo'], 'Primavera': ['Abril', 'Mayo', 'Junio'], 'Verano': ['Julio', 'Agosto', 'Septiembre']} \n",
      "\n",
      "{'Enero': [1, 2, 3, 4, 5, 6, 7, 8, 9, 10, 11, 12, 13, 14, 15, 16, 17, 18, 19, 20, 21, 22, 23, 24, 25, 26, 27, 28, 29, 30, 31], 'Febrero': [1, 2, 3, 4, 5, 6, 7, 8, 9, 10, 11, 12, 13, 14, 15, 16, 17, 18, 19, 20, 21, 22, 23, 24, 25, 26, 27, 28], 'Marzo': [1, 2, 3, 4, 5, 6, 7, 8, 9, 10, 11, 12, 13, 14, 15, 16, 17, 18, 19, 20, 21, 22, 23, 24, 25, 26, 27, 28, 29, 30, 31]} \n",
      "\n"
     ]
    }
   ],
   "source": [
    "dicc = {\"Ana\": 25, \"Bea\": 26, \"Carlos\": 27} \n",
    "\n",
    "print(dicc, \"\\n\")\n",
    "\n",
    "año = {\n",
    "       \"Otoño\": [\"Octubre\", \"Noviembre\", \"Diciembre\"],\n",
    "       \"Invierno\": [\"Enero\", \"Febrero\", \"Marzo\"],\n",
    "       \"Primavera\": [\"Abril\", \"Mayo\", \"Junio\"],\n",
    "       \"Verano\" : [\"Julio\", \"Agosto\", \"Septiembre\"]\n",
    "      }\n",
    "\n",
    "print(año, \"\\n\")\n",
    "\n",
    "meses = {\n",
    "    \"Enero\": [i+1 for i in range(31)],\n",
    "    \"Febrero\": [i+1 for i in range(28)],\n",
    "    \"Marzo\": [i+1 for i in range(31)]\n",
    "}\n",
    "\n",
    "print(meses, \"\\n\")"
   ]
  },
  {
   "cell_type": "markdown",
   "id": "955ea7ab-1649-4777-a521-e45f0314377d",
   "metadata": {},
   "source": [
    "Los valores se pueden acceder usando la clave"
   ]
  },
  {
   "cell_type": "code",
   "execution_count": 56,
   "id": "46311084-3d85-4b79-b25d-1607a1db733a",
   "metadata": {},
   "outputs": [
    {
     "name": "stdout",
     "output_type": "stream",
     "text": [
      "25\n",
      "['Abril', 'Mayo', 'Junio']\n"
     ]
    }
   ],
   "source": [
    "print(dicc[\"Ana\"])\n",
    "print(año[\"Primavera\"])"
   ]
  },
  {
   "cell_type": "markdown",
   "id": "015036de-7755-4400-a608-e50c224df1ca",
   "metadata": {},
   "source": [
    "Se pueden añadir nuevas pares clave-valor con la misma sintáxis"
   ]
  },
  {
   "cell_type": "code",
   "execution_count": 58,
   "id": "8e9fb9c2-fa7c-4a73-b811-4d9af22dabd8",
   "metadata": {},
   "outputs": [],
   "source": [
    "dicc[\"Diego\"] = 28\n",
    "\n",
    "meses[\"Abril\"] = [i+1 for i in range(30)]"
   ]
  },
  {
   "cell_type": "markdown",
   "id": "7e34739c-48b0-4ca5-9b37-4b8ee00afd26",
   "metadata": {},
   "source": [
    "Para asegurarse que una clave esta en el dicionario se usa la palabra **in**"
   ]
  },
  {
   "cell_type": "code",
   "execution_count": 61,
   "id": "b500aaa2-d3e7-4ce8-b078-5d18f1f70852",
   "metadata": {},
   "outputs": [
    {
     "name": "stdout",
     "output_type": "stream",
     "text": [
      "True\n",
      "False\n"
     ]
    }
   ],
   "source": [
    "print(\"Diego\" in dicc)\n",
    "print(\"Agosto\" in meses)"
   ]
  },
  {
   "cell_type": "markdown",
   "id": "9d1e4ce3-5f58-4fa4-8d01-65573c489387",
   "metadata": {},
   "source": [
    "Para acceder a las claves o los valores se usan las funciones **.keys()** o **.values()** respectivamente"
   ]
  },
  {
   "cell_type": "code",
   "execution_count": 65,
   "id": "3f94f140-8b57-4727-b943-57fc7ccb3dcd",
   "metadata": {},
   "outputs": [
    {
     "name": "stdout",
     "output_type": "stream",
     "text": [
      "dict_keys(['Ana', 'Bea', 'Carlos', 'Diego'])\n",
      "dict_values([['Octubre', 'Noviembre', 'Diciembre'], ['Enero', 'Febrero', 'Marzo'], ['Abril', 'Mayo', 'Junio'], ['Julio', 'Agosto', 'Septiembre']])\n"
     ]
    }
   ],
   "source": [
    "print(dicc.keys())\n",
    "print(año.values())"
   ]
  },
  {
   "cell_type": "code",
   "execution_count": null,
   "id": "4f42eb92-cbb3-4b1e-ba8e-16404ec1f317",
   "metadata": {},
   "outputs": [],
   "source": []
  }
 ],
 "metadata": {
  "kernelspec": {
   "display_name": "Python 3 (ipykernel)",
   "language": "python",
   "name": "python3"
  },
  "language_info": {
   "codemirror_mode": {
    "name": "ipython",
    "version": 3
   },
   "file_extension": ".py",
   "mimetype": "text/x-python",
   "name": "python",
   "nbconvert_exporter": "python",
   "pygments_lexer": "ipython3",
   "version": "3.11.9"
  }
 },
 "nbformat": 4,
 "nbformat_minor": 5
}
