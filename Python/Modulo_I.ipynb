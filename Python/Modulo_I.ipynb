{
 "cells": [
  {
   "cell_type": "markdown",
   "id": "bc09454a",
   "metadata": {},
   "source": [
    "# Módulo I: Python Básico\n",
    "\n",
    "## Tabla de Contenidos:\n",
    "* [Variables](#first-bullet)\n",
    "* [Lists](#second-bullet)\n",
    "* [Bucles](#third-bullet)\n"
   ]
  },
  {
   "cell_type": "markdown",
   "id": "3849f78c",
   "metadata": {},
   "source": [
    "## Capítulo 1: Variables <a class=\"anchor\" id=\"first-bullet\"></a>\n"
   ]
  },
  {
   "cell_type": "markdown",
   "id": "6dcc2ebf",
   "metadata": {},
   "source": [
    "En python existen distintos tipos de variables por ej. Int (enteros), float (flotantes), str (strings)...\n",
    "Para declarar una variable no hace falta declarar su tipo, el intérprete de python ya le asignará un tipo Por ej:"
   ]
  },
  {
   "cell_type": "code",
   "execution_count": 2,
   "id": "997ae924",
   "metadata": {},
   "outputs": [
    {
     "name": "stdout",
     "output_type": "stream",
     "text": [
      "La variable var1 con valor: 4 es de tipo: <class 'int'> \n",
      "\n",
      "La variable var2 con valor: 4.0 es de tipo: <class 'float'>\n",
      "\n",
      "La variable var3 con valor: 4 es de tipo: <class 'str'>\n",
      "\n",
      "La variable var3 con valor: True es de tipo: <class 'bool'>\n",
      "\n"
     ]
    }
   ],
   "source": [
    "var_int = 4        # Entero\n",
    "var_float = 4.     # Flotante\n",
    "var_str = \"4\"      # String\n",
    "var_bool = True    # Boolean\n",
    "\n",
    "print(\"La variable var1 con valor:\", var_int, \"es de tipo:\", type(var_int),\"\\n\")\n",
    "\n",
    "print(f\"La variable var2 con valor: {var_float} es de tipo: {type(var_float)}\\n\")\n",
    "\n",
    "print(f\"La variable var3 con valor: {var_str} es de tipo: {type(var_str)}\\n\")\n",
    "\n",
    "print(f\"La variable var3 con valor: {var_bool} es de tipo: {type(var_bool)}\\n\")"
   ]
  },
  {
   "cell_type": "markdown",
   "id": "65f0617c",
   "metadata": {},
   "source": [
    "Se pueden realizar operaciones sobre las variables.\n",
    "\n",
    "| Operación | Símbolo |\n",
    "| --- | --- |\n",
    "| Suma | + |\n",
    "| Resta | - |\n",
    "| Multiplicación | * |\n",
    "| División | / |\n",
    "| Exponente | ** |\n",
    "| Módulo | % |"
   ]
  },
  {
   "cell_type": "code",
   "execution_count": 3,
   "id": "168a1d75",
   "metadata": {},
   "outputs": [
    {
     "name": "stdout",
     "output_type": "stream",
     "text": [
      "19\n",
      "19\n",
      "19.0\n",
      "7\n"
     ]
    }
   ],
   "source": [
    "print((4 * 4) + 3)\n",
    "\n",
    "print((var_int * 4) + 3)\n",
    "\n",
    "print((var_float * 4) + 3)\n",
    "\n",
    "print((var_bool * 4) + 3)"
   ]
  },
  {
   "cell_type": "code",
   "execution_count": 4,
   "id": "b6c0d865",
   "metadata": {},
   "outputs": [
    {
     "ename": "TypeError",
     "evalue": "can only concatenate str (not \"int\") to str",
     "output_type": "error",
     "traceback": [
      "\u001b[0;31m---------------------------------------------------------------------------\u001b[0m",
      "\u001b[0;31mTypeError\u001b[0m                                 Traceback (most recent call last)",
      "Cell \u001b[0;32mIn[4], line 1\u001b[0m\n\u001b[0;32m----> 1\u001b[0m (var_str \u001b[38;5;241m*\u001b[39m \u001b[38;5;241m4\u001b[39m) \u001b[38;5;241m+\u001b[39m \u001b[38;5;241m3\u001b[39m\n",
      "\u001b[0;31mTypeError\u001b[0m: can only concatenate str (not \"int\") to str"
     ]
    }
   ],
   "source": [
    "(var_str * 4) + 3"
   ]
  },
  {
   "cell_type": "code",
   "execution_count": 5,
   "id": "ff3dc394",
   "metadata": {},
   "outputs": [
    {
     "name": "stdout",
     "output_type": "stream",
     "text": [
      "4444\n",
      "4444333\n"
     ]
    }
   ],
   "source": [
    "print(var_str * 4) \n",
    "\n",
    "print((var_str * 4) + (3 * \"3\"))"
   ]
  },
  {
   "cell_type": "markdown",
   "id": "d61b520d",
   "metadata": {},
   "source": [
    "También hay operaciones que devuelven un valor booleano usados \n",
    "a la hora de tomar decisiones\n",
    "\n",
    "| Operación | Símbolo |\n",
    "| --- | --- |\n",
    "| Menor | < |\n",
    "| Mayor | > |\n",
    "| Menor o igual | <= |\n",
    "| Mayor o igual | >= |\n",
    "| Igualdad | == |\n",
    "| Negación | != |"
   ]
  },
  {
   "cell_type": "code",
   "execution_count": 6,
   "id": "d294b522",
   "metadata": {},
   "outputs": [
    {
     "name": "stdout",
     "output_type": "stream",
     "text": [
      "True\n",
      "True\n",
      "False\n",
      "True\n",
      "True\n",
      "True\n"
     ]
    }
   ],
   "source": [
    "print(3 < 5)\n",
    "\n",
    "print(4 == var_int)\n",
    "\n",
    "print(4 == var_str)\n",
    "\n",
    "print(var_float == var_int)\n",
    "\n",
    "print(var_bool == True)\n",
    "\n",
    "print(var_bool != 0)\n"
   ]
  },
  {
   "cell_type": "markdown",
   "id": "1914e99e",
   "metadata": {},
   "source": [
    "## Capítulo 2: Listas <a class=\"anchor\" id=\"second-bullet\"></a>"
   ]
  },
  {
   "cell_type": "markdown",
   "id": "51a06407",
   "metadata": {},
   "source": [
    "Las variables se pueden agrupar en listas usando los paréntesis [ ] y \n",
    "comas para delimitar las distintas variables"
   ]
  },
  {
   "cell_type": "code",
   "execution_count": 7,
   "id": "5449a6d5",
   "metadata": {},
   "outputs": [
    {
     "name": "stdout",
     "output_type": "stream",
     "text": [
      "['Lunes', 'Martes', 'Miércoles', 'Jueves', 'Viernes', 'Sábado', 'Domingo'] \n",
      "\n",
      "<class 'list'>\n"
     ]
    }
   ],
   "source": [
    "semana = [\"Lunes\", \"Martes\", \"Miércoles\", \"Jueves\", \\\n",
    "          \"Viernes\", \"Sábado\", \"Domingo\"]\n",
    "\n",
    "print(semana,\"\\n\")\n",
    "\n",
    "print(type(semana))"
   ]
  },
  {
   "cell_type": "markdown",
   "id": "dcca996f",
   "metadata": {},
   "source": [
    "Los elementos de una lista no tienen por que ser del mismo tipo"
   ]
  },
  {
   "cell_type": "code",
   "execution_count": 8,
   "id": "17ad0e6e",
   "metadata": {},
   "outputs": [
    {
     "name": "stdout",
     "output_type": "stream",
     "text": [
      "[4, True, '4', ['Lunes', 'Martes', 'Miércoles', 'Jueves', 'Viernes', 'Sábado', 'Domingo'], 'semana']\n"
     ]
    }
   ],
   "source": [
    "lista = [var_int, var_bool, var_str, semana, \"semana\"]\n",
    "\n",
    "print(lista)"
   ]
  },
  {
   "cell_type": "markdown",
   "id": "cf69c10e",
   "metadata": {},
   "source": [
    "Al ser una nueva variable, se pueden hacer operaciones sobre la lista"
   ]
  },
  {
   "cell_type": "code",
   "execution_count": 9,
   "id": "925b4704",
   "metadata": {},
   "outputs": [
    {
     "data": {
      "text/plain": [
       "['Lunes',\n",
       " 'Martes',\n",
       " 'Miércoles',\n",
       " 'Jueves',\n",
       " 'Viernes',\n",
       " 'Sábado',\n",
       " 'Domingo',\n",
       " 'Lunes',\n",
       " 'Martes',\n",
       " 'Miércoles',\n",
       " 'Jueves',\n",
       " 'Viernes',\n",
       " 'Sábado',\n",
       " 'Domingo']"
      ]
     },
     "execution_count": 9,
     "metadata": {},
     "output_type": "execute_result"
    }
   ],
   "source": [
    "semana * 2"
   ]
  },
  {
   "cell_type": "code",
   "execution_count": 10,
   "id": "20dadc26",
   "metadata": {},
   "outputs": [
    {
     "data": {
      "text/plain": [
       "['Lunes',\n",
       " 'Martes',\n",
       " 'Miércoles',\n",
       " 'Jueves',\n",
       " 'Viernes',\n",
       " 'Sábado',\n",
       " 'Domingo',\n",
       " 'Lunes',\n",
       " 'Martes',\n",
       " 'Miércoles',\n",
       " 'Jueves',\n",
       " 'Viernes',\n",
       " 'Sábado',\n",
       " 'Domingo']"
      ]
     },
     "execution_count": 10,
     "metadata": {},
     "output_type": "execute_result"
    }
   ],
   "source": [
    "semana + semana"
   ]
  },
  {
   "cell_type": "code",
   "execution_count": 11,
   "id": "9e5c068c",
   "metadata": {},
   "outputs": [
    {
     "ename": "TypeError",
     "evalue": "unsupported operand type(s) for -: 'list' and 'list'",
     "output_type": "error",
     "traceback": [
      "\u001b[0;31m---------------------------------------------------------------------------\u001b[0m",
      "\u001b[0;31mTypeError\u001b[0m                                 Traceback (most recent call last)",
      "Cell \u001b[0;32mIn[11], line 1\u001b[0m\n\u001b[0;32m----> 1\u001b[0m semana \u001b[38;5;241m-\u001b[39m semana\n",
      "\u001b[0;31mTypeError\u001b[0m: unsupported operand type(s) for -: 'list' and 'list'"
     ]
    }
   ],
   "source": [
    "semana - semana"
   ]
  },
  {
   "cell_type": "code",
   "execution_count": 12,
   "id": "24f697d2",
   "metadata": {},
   "outputs": [
    {
     "data": {
      "text/plain": [
       "True"
      ]
     },
     "execution_count": 12,
     "metadata": {},
     "output_type": "execute_result"
    }
   ],
   "source": [
    "\"Martes\" in semana"
   ]
  },
  {
   "cell_type": "code",
   "execution_count": 13,
   "id": "5fb3022e",
   "metadata": {},
   "outputs": [
    {
     "data": {
      "text/plain": [
       "False"
      ]
     },
     "execution_count": 13,
     "metadata": {},
     "output_type": "execute_result"
    }
   ],
   "source": [
    "\"Juernes\" in semana"
   ]
  },
  {
   "cell_type": "markdown",
   "id": "dc3f4e9b",
   "metadata": {},
   "source": [
    "se pueden extraer los elementos indexando la lista (**empezando por 0!!!**)"
   ]
  },
  {
   "cell_type": "code",
   "execution_count": 14,
   "id": "c77056c4",
   "metadata": {},
   "outputs": [
    {
     "name": "stdout",
     "output_type": "stream",
     "text": [
      "Lunes \n",
      "\n",
      "Viernes \n",
      "\n",
      "Domingo \n",
      "\n",
      "Miércoles \n",
      "\n"
     ]
    }
   ],
   "source": [
    "print(semana[0], \"\\n\")\n",
    "\n",
    "print(semana[4], \"\\n\")\n",
    "\n",
    "print(semana[-1], \"\\n\")\n",
    "\n",
    "print(lista[3][2], \"\\n\")"
   ]
  },
  {
   "cell_type": "code",
   "execution_count": 15,
   "id": "2f6dd50b",
   "metadata": {},
   "outputs": [
    {
     "ename": "IndexError",
     "evalue": "list index out of range",
     "output_type": "error",
     "traceback": [
      "\u001b[0;31m---------------------------------------------------------------------------\u001b[0m",
      "\u001b[0;31mIndexError\u001b[0m                                Traceback (most recent call last)",
      "Cell \u001b[0;32mIn[15], line 1\u001b[0m\n\u001b[0;32m----> 1\u001b[0m \u001b[38;5;28mprint\u001b[39m(semana[\u001b[38;5;241m9\u001b[39m])\n",
      "\u001b[0;31mIndexError\u001b[0m: list index out of range"
     ]
    }
   ],
   "source": [
    "print(semana[9])"
   ]
  },
  {
   "cell_type": "markdown",
   "id": "44d63fda-f8f7-4e99-922b-818752345d6c",
   "metadata": {},
   "source": [
    "También se pueden acceder a varios elementos usando 'slicing'"
   ]
  },
  {
   "cell_type": "code",
   "execution_count": 16,
   "id": "b6b569e6-5893-4bb8-9d2a-55e99515eb02",
   "metadata": {},
   "outputs": [
    {
     "name": "stdout",
     "output_type": "stream",
     "text": [
      "['Viernes', 'Sábado', 'Domingo']\n",
      "['Martes', 'Jueves', 'Sábado']\n",
      "['Domingo', 'Sábado', 'Viernes', 'Jueves', 'Miércoles', 'Martes', 'Lunes']\n",
      "['Jueves', 'Viernes']\n"
     ]
    }
   ],
   "source": [
    "print(semana[4:7])\n",
    "\n",
    "print(semana[1::2])\n",
    "\n",
    "print(semana[-1::-1])\n",
    "\n",
    "print(semana[3:-2])"
   ]
  },
  {
   "cell_type": "markdown",
   "id": "2eca62db",
   "metadata": {},
   "source": [
    "Se pueden añadir nuevos elementos a la lista usando el método **.append( )**"
   ]
  },
  {
   "cell_type": "code",
   "execution_count": 17,
   "id": "a02f95fe",
   "metadata": {},
   "outputs": [
    {
     "name": "stdout",
     "output_type": "stream",
     "text": [
      "['Lunes', 'Martes', 'Miércoles', 'Jueves', 'Viernes', 'Sábado', 'Domingo', 'Juernes']\n"
     ]
    },
    {
     "data": {
      "text/plain": [
       "'Juernes'"
      ]
     },
     "execution_count": 17,
     "metadata": {},
     "output_type": "execute_result"
    }
   ],
   "source": [
    "semana.append(\"Juernes\")\n",
    "\n",
    "print(semana)\n",
    "\n",
    "semana.pop()"
   ]
  },
  {
   "cell_type": "markdown",
   "id": "fd83f9b3",
   "metadata": {},
   "source": [
    "También se puede contar el número de elementos usando la función **len( )**"
   ]
  },
  {
   "cell_type": "code",
   "execution_count": 18,
   "id": "9d0962a0",
   "metadata": {},
   "outputs": [
    {
     "name": "stdout",
     "output_type": "stream",
     "text": [
      "7 \n",
      "\n",
      "5 \n",
      "\n"
     ]
    }
   ],
   "source": [
    "print(len(semana), \"\\n\")\n",
    "\n",
    "print(len(lista), \"\\n\")"
   ]
  },
  {
   "cell_type": "markdown",
   "id": "04a09ee8-93c9-48bf-ab8f-1d65fef0fcb3",
   "metadata": {},
   "source": [
    "Para extraer el valor máximo o mínimo usamos la función **max( )** o **min( )** respectivamente"
   ]
  },
  {
   "cell_type": "code",
   "execution_count": 19,
   "id": "e65fdbee-31fd-49cc-8b54-5da68c855530",
   "metadata": {},
   "outputs": [
    {
     "name": "stdout",
     "output_type": "stream",
     "text": [
      "9\n",
      "1\n"
     ]
    }
   ],
   "source": [
    "numeros = [4,2,5,6,3,1,9,8,7]\n",
    "\n",
    "print(max(numeros))\n",
    "\n",
    "print(min(numeros))\n"
   ]
  },
  {
   "cell_type": "markdown",
   "id": "21332a1a",
   "metadata": {},
   "source": [
    "También podemos ordenar una lista usando el método **.sort( )** o usando la función **sorted( )**"
   ]
  },
  {
   "cell_type": "code",
   "execution_count": 20,
   "id": "d9a1e8b2",
   "metadata": {},
   "outputs": [
    {
     "name": "stdout",
     "output_type": "stream",
     "text": [
      "[1, 2, 3, 4, 5, 6, 7, 8, 9] \n",
      "\n",
      "[9, 8, 7, 6, 5, 4, 3, 2, 1] \n",
      "\n",
      "[1, 2, 3, 4, 5, 6, 7, 8, 9]\n"
     ]
    }
   ],
   "source": [
    "numeros.sort()\n",
    "\n",
    "print(numeros, \"\\n\")\n",
    "\n",
    "numeros.sort(reverse = True)\n",
    "\n",
    "print(numeros, \"\\n\")\n",
    "\n",
    "print(sorted(numeros))"
   ]
  },
  {
   "cell_type": "markdown",
   "id": "a194ba65",
   "metadata": {},
   "source": [
    "## Capítulo 3: Bucles <a class=\"anchor\" id=\"third-bullet\"></a>"
   ]
  },
  {
   "cell_type": "markdown",
   "id": "fed7014c",
   "metadata": {},
   "source": [
    "El bucle **for** es el más común"
   ]
  },
  {
   "cell_type": "code",
   "execution_count": 21,
   "id": "91dd81d2",
   "metadata": {},
   "outputs": [
    {
     "name": "stdout",
     "output_type": "stream",
     "text": [
      "0\n",
      "1\n",
      "2\n",
      "3\n",
      "4\n"
     ]
    }
   ],
   "source": [
    "for i in range(5):\n",
    "    print(i)"
   ]
  },
  {
   "cell_type": "code",
   "execution_count": 22,
   "id": "9ca67e7e",
   "metadata": {},
   "outputs": [
    {
     "name": "stdout",
     "output_type": "stream",
     "text": [
      "Lunes\n",
      "Martes\n",
      "Miércoles\n",
      "Jueves\n",
      "Viernes\n",
      "Sábado\n",
      "Domingo\n"
     ]
    }
   ],
   "source": [
    "dias_semana = len(semana)\n",
    "\n",
    "for i in range(dias_semana):\n",
    "    print(semana[i])"
   ]
  },
  {
   "cell_type": "markdown",
   "id": "17db3d40",
   "metadata": {},
   "source": [
    "También podemos añadir condiciones dentro del flujo con las cláusulas if-else"
   ]
  },
  {
   "cell_type": "code",
   "execution_count": 23,
   "id": "9679797d",
   "metadata": {},
   "outputs": [
    {
     "name": "stdout",
     "output_type": "stream",
     "text": [
      "Viernes\n",
      "Sábado\n",
      "Domingo\n"
     ]
    }
   ],
   "source": [
    "for i in range(7):\n",
    "    \n",
    "    if i >= 4:\n",
    "        print(semana[i])\n",
    "    else:\n",
    "        pass\n",
    "        "
   ]
  },
  {
   "cell_type": "code",
   "execution_count": 24,
   "id": "b22fa88e",
   "metadata": {},
   "outputs": [
    {
     "name": "stdout",
     "output_type": "stream",
     "text": [
      "Hoy es Lunes\n",
      "Hoy ya es Martes\n",
      "Ya estamos a Miércoles\n",
      "Ya estamos a Jueves\n",
      "VIERNES!!!\n",
      "Sábado\n",
      "Domingo\n"
     ]
    }
   ],
   "source": [
    "for i in range(7):\n",
    "    \n",
    "    if i == 0:\n",
    "        print(f\"Hoy es {semana[i]}\")\n",
    "    elif i == 1:\n",
    "        print(f\"Hoy ya es {semana[i]}\")\n",
    "    elif (i > 1) and (i < 4):\n",
    "        print(f\"Ya estamos a {semana[i]}\")\n",
    "    elif i == 4:\n",
    "        print(\"VIERNES!!!\")\n",
    "    else:\n",
    "        print(semana[i])"
   ]
  },
  {
   "cell_type": "markdown",
   "id": "24189ed0",
   "metadata": {},
   "source": [
    "También existe el bucle **while** "
   ]
  },
  {
   "cell_type": "code",
   "execution_count": 25,
   "id": "02c42da0",
   "metadata": {},
   "outputs": [
    {
     "name": "stdout",
     "output_type": "stream",
     "text": [
      "0\n",
      "1\n",
      "4\n",
      "9\n",
      "16\n"
     ]
    }
   ],
   "source": [
    "i = 0\n",
    "while i < 5:\n",
    "    \n",
    "    print(i**2)\n",
    "    \n",
    "    i += 1"
   ]
  },
  {
   "cell_type": "markdown",
   "id": "17b379b3",
   "metadata": {},
   "source": [
    "(cuidado con los bucles infinitos)"
   ]
  },
  {
   "cell_type": "code",
   "execution_count": 26,
   "id": "d1e3a06b",
   "metadata": {},
   "outputs": [
    {
     "data": {
      "text/plain": [
       "'\\n\\ni = 0 \\nwhile i < 1:\\n    print(i)\\n    \\n'"
      ]
     },
     "execution_count": 26,
     "metadata": {},
     "output_type": "execute_result"
    }
   ],
   "source": [
    "'''\n",
    "\n",
    "i = 0 \n",
    "while i < 1:\n",
    "    print(i)\n",
    "    \n",
    "'''"
   ]
  },
  {
   "cell_type": "markdown",
   "id": "7bebca41",
   "metadata": {},
   "source": [
    "Tip: usar **enumerate** en vez de **range** en un bucle **for**"
   ]
  },
  {
   "cell_type": "code",
   "execution_count": 27,
   "id": "5fefb450",
   "metadata": {},
   "outputs": [
    {
     "name": "stdout",
     "output_type": "stream",
     "text": [
      "1 : Lunes\n",
      "2 : Martes\n",
      "3 : Miércoles\n",
      "4 : Jueves\n",
      "5 : Viernes\n",
      "6 : Sábado\n",
      "7 : Domingo\n"
     ]
    }
   ],
   "source": [
    "for count, day in enumerate(semana):\n",
    "    print(f\"{count + 1} : {day}\")\n",
    "    "
   ]
  },
  {
   "cell_type": "markdown",
   "id": "6fd451df-c4a8-4a04-8fb8-ae6b766ef845",
   "metadata": {},
   "source": [
    "Se pueden crear listas con una cierta estructura usando *list comprehension*:"
   ]
  },
  {
   "cell_type": "code",
   "execution_count": 28,
   "id": "daf907e9-99b5-4fa5-965a-5a943230b062",
   "metadata": {},
   "outputs": [
    {
     "name": "stdout",
     "output_type": "stream",
     "text": [
      "[1, 4, 9, 16, 25]\n",
      "[1, 4, 9, 16, 25]\n"
     ]
    }
   ],
   "source": [
    "# Bucle normal\n",
    "\n",
    "cuadrados = []\n",
    "\n",
    "for i in range(5):\n",
    "    cuadrados.append((i+1)**2)\n",
    "\n",
    "print(cuadrados)\n",
    "\n",
    "# List comprehension\n",
    "\n",
    "cuadrados = [(i+1)**2 for i in range(5)]\n",
    "\n",
    "print(cuadrados)"
   ]
  },
  {
   "cell_type": "code",
   "execution_count": null,
   "id": "03f05d5f-7e2c-4f17-bb96-665fe176b0c9",
   "metadata": {},
   "outputs": [],
   "source": []
  }
 ],
 "metadata": {
  "kernelspec": {
   "display_name": "Python 3 (ipykernel)",
   "language": "python",
   "name": "python3"
  },
  "language_info": {
   "codemirror_mode": {
    "name": "ipython",
    "version": 3
   },
   "file_extension": ".py",
   "mimetype": "text/x-python",
   "name": "python",
   "nbconvert_exporter": "python",
   "pygments_lexer": "ipython3",
   "version": "3.11.8"
  }
 },
 "nbformat": 4,
 "nbformat_minor": 5
}
