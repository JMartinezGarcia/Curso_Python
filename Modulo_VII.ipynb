{
 "cells": [
  {
   "cell_type": "markdown",
   "id": "e5a6389e",
   "metadata": {},
   "source": [
    "# Módulo VII: Scikit-Learn\n",
    "\n",
    "## Tabla de Contenidos:\n",
    "\n",
    "* [Preprocesamiento](#first-bullet)\n",
    "* [Validación Cruzada](#second-bullet)\n",
    "* [Regresión Logística](#third-bullet)\n",
    "* [Pipeline](#third-bullet)\n"
   ]
  },
  {
   "cell_type": "markdown",
   "id": "459675b0",
   "metadata": {},
   "source": [
    "## Capítulo 1: Preprocesamiento <a class=\"anchor\" id=\"first-bullet\"></a>\n"
   ]
  },
  {
   "cell_type": "code",
   "execution_count": 2,
   "id": "5333fea3",
   "metadata": {},
   "outputs": [],
   "source": [
    "import pandas as pd\n",
    "import numpy as np\n",
    "import seaborn as sns"
   ]
  },
  {
   "cell_type": "code",
   "execution_count": null,
   "id": "c7f64b8d",
   "metadata": {},
   "outputs": [],
   "source": []
  }
 ],
 "metadata": {
  "kernelspec": {
   "display_name": "Python 3 (ipykernel)",
   "language": "python",
   "name": "python3"
  },
  "language_info": {
   "codemirror_mode": {
    "name": "ipython",
    "version": 3
   },
   "file_extension": ".py",
   "mimetype": "text/x-python",
   "name": "python",
   "nbconvert_exporter": "python",
   "pygments_lexer": "ipython3",
   "version": "3.11.9"
  }
 },
 "nbformat": 4,
 "nbformat_minor": 5
}
